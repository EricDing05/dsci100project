{
 "cells": [
  {
   "cell_type": "markdown",
   "id": "e71d76df-7232-4aa9-9a4c-4663157d2b29",
   "metadata": {},
   "source": [
    "The goal of this research is to predict how long players will spend playing Minecraft variously due to their skill level, gender, age and subscription status. Knowing play time can help developers target their recruitment efforts, and make sure they have enough resources (e.g., software licenses, server hardware) to handle the number of players they attract. We can investigate the correlation between a player's age, gender, subscription status and the amount of time they spend playing the game by forecasting their play hours. \n",
    "This data is collected by a research group in Computer Science at UBC, on how people play video games.\n",
    "Analyzing data on how people play the game helps improve the gaming experience, and increase player engagement, and stable servers. Especially, the Minecraft server we are analyzing is a small server, prediction of the play hours would give insight to developers on how to prevent unstable servers and improve operation. \n",
    "The primary question addressed in this project is:\n",
    "What factors impact the amount of times users play Minecraft?\n",
    "Specifically, we aimed to predict users' play hours depending on different variables. The dataset “players” collected by the UBC research team represents how players play Minecraft. The data set is based on the Minecraft server, and players' actions are recorded as they navigate through the world.\n",
    "It consists of 197 observations with six primary variables: experience, subscription status, play hours, name, gender, and age.\n",
    "- The experience variable is categorical data indicating players’ experience level(e.g., beginner, amateur, pro and veteran).\n",
    "- The player assigns themselves to this category based on their level of game familiarity. This examines varying game comprehension levels on player involvement. \n",
    "- The subscribe variable is boolean data indicating whether players subscribed to the game. Depending on their subscription status, the values can be either True or False. \n",
    "- Played hours variable is numeric data representing the total spent hours a game player has played. \n",
    "- The name is a string of data that represents the name of the player uniquely given to players in the game. \n",
    "- The gender variable is categorical data which indicates the gender of players. There are seven different genders in this study, total:  male, female, non-binary, prefer not-to-say, two-spirited, agender, and others. This information gives insight into the correlation of playtime between different genders. \n",
    "- The age variable is integer data indicating the age of players’. It is used to determine how it affects the user's engagement depending on their age.\n",
    "Certain variables, such as Individual ID, hashed email, and organization name, are excluded from the analysis since they are irrelevant. For example, the individual ID and organization name variables are left blank, and the hashed email does not provide any meaningful data in this study. "
   ]
  },
  {
   "cell_type": "code",
   "execution_count": null,
   "id": "2e9ac85b-7c56-4f14-971c-2257ac2c24ca",
   "metadata": {},
   "outputs": [],
   "source": []
  }
 ],
 "metadata": {
  "kernelspec": {
   "display_name": "R",
   "language": "R",
   "name": "ir"
  },
  "language_info": {
   "codemirror_mode": "r",
   "file_extension": ".r",
   "mimetype": "text/x-r-source",
   "name": "R",
   "pygments_lexer": "r",
   "version": "4.3.3"
  }
 },
 "nbformat": 4,
 "nbformat_minor": 5
}
